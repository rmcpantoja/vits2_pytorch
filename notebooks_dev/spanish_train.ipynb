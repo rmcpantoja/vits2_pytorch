{
  "nbformat": 4,
  "nbformat_minor": 0,
  "metadata": {
    "colab": {
      "provenance": [],
      "gpuType": "T4",
      "include_colab_link": true
    },
    "kernelspec": {
      "name": "python3",
      "display_name": "Python 3"
    },
    "language_info": {
      "name": "python"
    },
    "accelerator": "GPU"
  },
  "cells": [
    {
      "cell_type": "markdown",
      "metadata": {
        "id": "view-in-github",
        "colab_type": "text"
      },
      "source": [
        "<a href=\"https://colab.research.google.com/github/rmcpantoja/vits2_pytorch/blob/main/notebooks_dev/spanish_train.ipynb\" target=\"_parent\"><img src=\"https://colab.research.google.com/assets/colab-badge.svg\" alt=\"Open In Colab\"/></a>"
      ]
    },
    {
      "cell_type": "code",
      "source": [
        "# VITS-2 (spanish Support)\n",
        "# This notebook was created by rmcpantoja\n",
        "# download vits2 project (Spanish support):\n",
        "%cd /content\n",
        "!git clone https://github.com/rmcpantoja/vits2_pytorch.git\n",
        "# mount Drive:\n",
        "from google.colab import drive\n",
        "drive.mount(\"/content/drive\")"
      ],
      "metadata": {
        "id": "cd1L_Cig0bQr"
      },
      "execution_count": null,
      "outputs": []
    },
    {
      "cell_type": "code",
      "source": [
        "# Run cell. After you restart the runtime, run this cell again.\n",
        "%cd vits2_pytorch\n",
        "!pip install num2words\n",
        "!pip install -r requirements.txt"
      ],
      "metadata": {
        "id": "sv1ZvoJe1UTn"
      },
      "execution_count": null,
      "outputs": []
    },
    {
      "cell_type": "code",
      "source": [
        "# download spanish dataset. This mai take a while.\n",
        "!gdown 1Sm_zyBo67XHkiFhcRSQ4YaHPYM0slO_e"
      ],
      "metadata": {
        "id": "ECd7PZZZ1y6a"
      },
      "execution_count": null,
      "outputs": []
    },
    {
      "cell_type": "code",
      "source": [
        "# create wavs folder:\n",
        "!mkdir wavs\n",
        "# extract. This mai take a while.\n",
        "print(\"Extracting, please wait...\")\n",
        "!unzip -q tux-100h.zip\n",
        "# move valid folder to vits-2. This mai take a bit\n",
        "print(\"Adjusting paths...\")\n",
        "!mv \"/content/vits2_pytorch/tux-100h/valid/wavs\" \".\"\n",
        "print(\"Cleaning up...\")\n",
        "!rm /content/vits2_pytorch/tux-100h.zip\n",
        "!rm -r /content/vits2_pytorch/tux-100h/other\n",
        "print(\"Done!\")"
      ],
      "metadata": {
        "id": "BTxWcsUX3PaL"
      },
      "execution_count": null,
      "outputs": []
    },
    {
      "cell_type": "code",
      "source": [
        "# We don't need transcriptions, the repo has them. So, compiling the aligment.\n",
        "%cd /content/vits2_pytorch/monotonic_align\n",
        "!mkdir /content/vits2_pytorch/monotonic_align/monotonic_align\n",
        "!python setup.py build_ext --inplace\n",
        "%cd .."
      ],
      "metadata": {
        "id": "wslAfPiT51gz"
      },
      "execution_count": null,
      "outputs": []
    },
    {
      "cell_type": "code",
      "source": [
        "# some settings before training:\n",
        "import json\n",
        "with open(\"configs/vits2_esp_ljs_nosdp.json\", \"r\") as settings:\n",
        "    config = json.load(settings)\n",
        "# images, audios and training samples:\n",
        "log_interval = 500 #@param {type:\"integer\"}\n",
        "# Number of training epochs.\n",
        "epochs = 10000 #@param {type:\"integer\"}\n",
        "# The batch size can be adjusted according to your VRAM. Greater than 32 is good in this case.\n",
        "batch_size = 64 #@param {type:\"integer\"}\n",
        "# set config:\n",
        "config[\"train\"][\"log_interval\"] = log_interval\n",
        "config[\"train\"][\"epochs\"] = epochs\n",
        "config[\"train\"][\"batch_size\"] = batch_size\n",
        "# output dir:\n",
        "output_path = \"/content/drive/MyDrive/colab/vits2\" #@param {type:\"string\"}\n",
        "model_name = \"es_ES-Tux\"\n",
        "# save configs:\n",
        "with open(\"configs/vits2_esp_ljs_nosdp.json\", \"w\") as file:\n",
        "    json.dump(config, file, indent=4)\n",
        "print(f\"Your settings:\\nTensorboard interval: {log_interval}\\nNumber of training epochs: {epochs}\\nBatch size: {batch_size}\\nOutput path: {output_path}/{model_name}\")"
      ],
      "metadata": {
        "id": "c0aI6VaA3Koc"
      },
      "execution_count": null,
      "outputs": []
    },
    {
      "cell_type": "code",
      "source": [
        "# run tensorboard\n",
        "%load_ext tensorboard\n",
        "%tensorboard --logdir \"{output_path}/{model_name}\""
      ],
      "metadata": {
        "id": "rEirM-wYk0-F"
      },
      "execution_count": null,
      "outputs": []
    },
    {
      "cell_type": "code",
      "source": [
        "# lets train🚀\n",
        "!python train.py -c configs/vits2_esp_ljs_nosdp.json -m \"{model_name}\" --path \"{output_path}\""
      ],
      "metadata": {
        "id": "jiPG-bd1636M"
      },
      "execution_count": null,
      "outputs": []
    }
  ]
}